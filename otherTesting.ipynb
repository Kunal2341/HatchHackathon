{
 "cells": [
  {
   "cell_type": "markdown",
   "id": "familiar-exclusive",
   "metadata": {},
   "source": [
    "# Data Control\n",
    "The Datasheet has many different problems\n",
    "- Not having data for a specific criteria\n",
    "- Data is not formatted correctly"
   ]
  },
  {
   "cell_type": "code",
   "execution_count": null,
   "id": "residential-track",
   "metadata": {},
   "outputs": [],
   "source": [
    "import os\n",
    "import time\n",
    "import json\n",
    "import ast\n",
    "from pprint import pprint\n",
    "import pandas as pd\n",
    "import matplotlib.pyplot as plt\n",
    "import statistics\n",
    "import numpy as np\n",
    "import random\n",
    "from collections import Counter"
   ]
  },
  {
   "cell_type": "code",
   "execution_count": null,
   "id": "amazing-tattoo",
   "metadata": {},
   "outputs": [],
   "source": [
    "os.chdir(\"/Users/kunal/Documents/AAPersonalAIPROJECT/HATCH\")\n",
    "for i in os.listdir(\".\"):\n",
    "    print(i)"
   ]
  },
  {
   "cell_type": "code",
   "execution_count": null,
   "id": "enclosed-chemistry",
   "metadata": {},
   "outputs": [],
   "source": [
    "ethnicities = []\n",
    "f = open(\"ethnicities.txt\", \"r\", encoding=\"utf8\")\n",
    "for x in f:\n",
    "    ethnicities.append(x[:-1].lower().strip())"
   ]
  },
  {
   "cell_type": "code",
   "execution_count": null,
   "id": "aggressive-conversion",
   "metadata": {},
   "outputs": [],
   "source": [
    "arryStrings = []\n",
    "f = open(\"DomoArigatoData.txt\", \"r\")\n",
    "for x in f:\n",
    "    arryStrings.append(x)"
   ]
  },
  {
   "cell_type": "code",
   "execution_count": null,
   "id": "invisible-employment",
   "metadata": {},
   "outputs": [],
   "source": [
    "for i in arryStrings[1:]:\n",
    "    if not (i[0:5] == \"FALSE\" or i[0:4] == \"TRUE\"):\n",
    "        print(i)"
   ]
  },
  {
   "cell_type": "code",
   "execution_count": null,
   "id": "declared-living",
   "metadata": {},
   "outputs": [],
   "source": [
    "def gene(line, value):\n",
    "    ct = 0\n",
    "    while ct < 10:\n",
    "        if line[ct] == \"\\t\" and line[ct+1] == \"\\t\":\n",
    "            val= False\n",
    "            return(\"No Gene\")\n",
    "            break\n",
    "        ct+=1\n",
    "    ct2=0\n",
    "    string = \"\"\n",
    "    while ct2 < 15:\n",
    "        if line[ct2] == \"\\t\":\n",
    "            for i in line[ct2+1:]:\n",
    "                string+=i\n",
    "                if i ==\"\\t\":\n",
    "                    return(string.replace(\"\\t\",\"\"))\n",
    "                    break\n",
    "        ct2+=1"
   ]
  },
  {
   "cell_type": "code",
   "execution_count": null,
   "id": "refined-aberdeen",
   "metadata": {},
   "outputs": [],
   "source": [
    "def calc(line):\n",
    "    ct = 0\n",
    "    string1 = \"\"\n",
    "    while ct < 30:\n",
    "        if line[ct] == \"\\t\" and line[ct+1] == \"\\t\":\n",
    "            #print(\"No Gene\")\n",
    "            #print(line[ct+2:])\n",
    "            for i in line[ct+2:]:\n",
    "                string1+=i\n",
    "                if i ==\"\\t\":\n",
    "                    #print(string.replace(\"\\t\",\"\"))\n",
    "                    return \"No Gene\", string1.replace(\"\\t\",\"\").strip()\n",
    "                    break\n",
    "            break\n",
    "        ct+=1\n",
    "    ct2=0\n",
    "    string = \"\"\n",
    "    stringNew = \"\"\n",
    "    while ct2 < 15:\n",
    "        if line[ct2] == \"\\t\":\n",
    "            ctNew = 0\n",
    "            for i in line[ct2+1:]:\n",
    "                string+=i\n",
    "                if i ==\"\\t\":\n",
    "                    #print(string.replace(\"\\t\",\"\"))\n",
    "                    break\n",
    "                ctNew+=1\n",
    "            #print(line[ct2+ctNew+2:])\n",
    "            for j in line[ct2+ctNew+2:]:\n",
    "                #print(j)\n",
    "                stringNew += j\n",
    "                if j ==\"\\t\":\n",
    "                    #print(stringNew.replace(\"\\t\",\"\"))\n",
    "                    return string.replace(\"\\t\",\"\").strip(), stringNew.replace(\"\\t\",\"\").strip()\n",
    "                    break\n",
    "        ct2+=1"
   ]
  },
  {
   "cell_type": "code",
   "execution_count": null,
   "id": "loose-childhood",
   "metadata": {},
   "outputs": [],
   "source": [
    "%%time\n",
    "convertArray = []\n",
    "for line in arryStrings[1:]:\n",
    "    tempArray = []\n",
    "    if line[0:5].strip().upper() == \"FALSE\":\n",
    "        tempArray.append([\"Pathogenic\", \"False\"])  \n",
    "    elif line[0:4].strip().upper() == \"TRUE\":\n",
    "        tempArray.append([\"Pathogenic\", \"True\"])  \n",
    "    else:\n",
    "        raise Exception(\"Invalid first Value\\\"{}\\\"\".format(str(line)))\n",
    "    geneVal, history_classVal = calc(line)\n",
    "    tempArray.append([\"Gene\",geneVal])\n",
    "    tempArray.append([\"History_class\", history_classVal])\n",
    "    if not line.find(\"\\\"\") == -1:\n",
    "        runOther = line[line.find(\"\\\"\")+1:len(line)-1]\n",
    "    for i in runOther.split(\";\"):\n",
    "        i = i[:-5] if i.endswith(\"\\t\\t\\t\\t\") else i\n",
    "        details = i.strip().split(\":\")\n",
    "        try:\n",
    "            details[1] = details[1][:-1] if details[1].endswith(\"\\\"\") else details[1]\n",
    "            details[1] = json.loads(details[1].replace(\"\\\"\\\"\",\"\\\"\"))\n",
    "        except:\n",
    "            pass\n",
    "        tempArray.append(details)\n",
    "    convertArray.append(tempArray)"
   ]
  },
  {
   "cell_type": "code",
   "execution_count": null,
   "id": "fancy-gilbert",
   "metadata": {},
   "outputs": [],
   "source": [
    "ctRemoved = 0\n",
    "ctPointRemovePointer = 0\n",
    "pointsRemoved = []\n",
    "possible = ['Pathogenic','Gene','History_class','consent_approval','ethnicity','cancer_dx','cancer_dx_type','relationships',\n",
    "            'cancer_dx_age','known_brca','known_cancer','rel_relation','rel_cancer','rel_age', '_method', 'other_cancer']\n",
    "for singleEntity in convertArray:\n",
    "    for criteria in singleEntity:\n",
    "        if not criteria[0] in possible:\n",
    "            pointsRemoved.append([\"Title Wrong\", ctPointRemovePointer])\n",
    "            print(criteria)\n",
    "            #print(singleEntity, end=\"\\n\\n\")\n",
    "            #convertArray.remove(singleEntity)\n",
    "            ctRemoved +=1\n",
    "    ctPointRemovePointer+=1\n",
    "print(\"{} different entities due to bad data format\".format(ctRemoved))"
   ]
  },
  {
   "cell_type": "code",
   "execution_count": null,
   "id": "corresponding-nutrition",
   "metadata": {},
   "outputs": [],
   "source": [
    "for i in pointsRemoved:\n",
    "    del convertArray[i[1]]\n",
    "pointsRemoved = []"
   ]
  },
  {
   "cell_type": "markdown",
   "id": "viral-repeat",
   "metadata": {},
   "source": [
    "# Visulization of Pathogenic"
   ]
  },
  {
   "cell_type": "code",
   "execution_count": null,
   "id": "forbidden-essence",
   "metadata": {},
   "outputs": [],
   "source": [
    "total = len(convertArray)\n",
    "cttrue = 0\n",
    "ctfalse = 0\n",
    "for i in convertArray:\n",
    "    cttrue += 1 if i[0][1] == 'True' else 0\n",
    "    ctfalse += 1 if i[0][1] == 'False' else 0\n",
    "print(round(cttrue/total * 100,2),round(ctfalse/total * 100,2))\n",
    "plt.title(\"Pathogenic\")\n",
    "plt.pie([cttrue, ctfalse], labels = [\"True \" + str(round(cttrue/total * 100,3)), \n",
    "                                     \"False \" + str(round(ctfalse/total * 100,3))])\n",
    "plt.show()"
   ]
  },
  {
   "cell_type": "markdown",
   "id": "boring-encyclopedia",
   "metadata": {},
   "source": [
    "# Gene"
   ]
  },
  {
   "cell_type": "code",
   "execution_count": null,
   "id": "parallel-kansas",
   "metadata": {},
   "outputs": [],
   "source": [
    "possibleGene = [\"NCCN\", \"HBOC\", \"MEN2\", \"PTEN\", \"MEN1\", \"ACMG\", \"FAMMM\"]"
   ]
  },
  {
   "cell_type": "code",
   "execution_count": null,
   "id": "stupid-occurrence",
   "metadata": {},
   "outputs": [],
   "source": [
    "ctGene = 0\n",
    "for i in possibleGene: \n",
    "    if i != 'No Gene': ctGene+=1\n",
    "lstOfGene = []\n",
    "for i in convertArray:\n",
    "    #if i[1][1] != \"No Gene\": print(i[1][1]) \n",
    "    lstOfGene.append(i[1][1])\n",
    "#print(\"-\"*20)\n",
    "print(\"{} different Genes with total {} gene locations\".format(len(set(lstOfGene)), ctGene))"
   ]
  },
  {
   "cell_type": "markdown",
   "id": "dietary-fiction",
   "metadata": {},
   "source": [
    "# Delete bad data"
   ]
  },
  {
   "cell_type": "raw",
   "id": "employed-boating",
   "metadata": {},
   "source": [
    "possible = ['Pathogenic','Gene','History_class','consent_approval','ethnicity','cancer_dx','cancer_dx_type','relationships',\n",
    "            'cancer_dx_age','known_brca','known_cancer','rel_relation','rel_cancer','rel_age', '_method', 'other_cancer']\n",
    "for i in convertArray:\n",
    "    for j in i:\n",
    "        if not (j[0] in possible):\n",
    "            print(j)"
   ]
  },
  {
   "cell_type": "markdown",
   "id": "clear-swedish",
   "metadata": {},
   "source": [
    "### ```consent_approval```\n",
    "\n",
    "There are only 2 possible options for this criteria, `yes` and `no` so adjusting all of them to that"
   ]
  },
  {
   "cell_type": "code",
   "execution_count": null,
   "id": "organized-madness",
   "metadata": {},
   "outputs": [],
   "source": [
    "for i in convertArray:\n",
    "    for j in i:\n",
    "        if j[0] == \"consent_approval\":\n",
    "            j[1] = j[1].lower().strip()\n",
    "            #Printing all possible wrong points\n",
    "            if j[1] != \"yes\" and j[1] != \"no\":\n",
    "                print(j[1])"
   ]
  },
  {
   "cell_type": "markdown",
   "id": "equivalent-youth",
   "metadata": {},
   "source": [
    "### ```ethnicity```"
   ]
  },
  {
   "cell_type": "code",
   "execution_count": null,
   "id": "normal-sheet",
   "metadata": {},
   "outputs": [],
   "source": [
    "from spellchecker import SpellChecker\n",
    "spell = SpellChecker()"
   ]
  },
  {
   "cell_type": "code",
   "execution_count": null,
   "id": "removed-innocent",
   "metadata": {},
   "outputs": [],
   "source": [
    "def ethnicityChange(listofVals):\n",
    "    listofVals = listofVals.lower().replace(\"/\",\",\").replace(\"caucasion\",\"caucasian\").replace(\"-\",\",\").replace(\"and\",\",\").replace(\"&\",\",\").replace(\"english\", \"\").replace(\"white\", \"caucasian\").strip().split(\",\")\n",
    "    #print(listofVals)\n",
    "    updated = listofVals\n",
    "    ct = 0\n",
    "    for i in listofVals:\n",
    "        if \"not\" in i or \"non\" in i:\n",
    "            try:\n",
    "                updated.remove(listofVals[ct+1])\n",
    "            except:\n",
    "                pass\n",
    "        ct+=1\n",
    "\n",
    "    lst = [value for value in updated if value != \"\"]\n",
    "    #print(lst)\n",
    "    ct = 0\n",
    "    for j in lst:\n",
    "        if j != spell.correction(j):\n",
    "            lst[ct] = spell.correction(j)\n",
    "            #print(j, spell.correction(j))\n",
    "        ct+=1\n",
    "    #print(lst)\n",
    "    final = []\n",
    "    for i in lst:\n",
    "        if i in ethnicities:\n",
    "            final.append(i)\n",
    "        else:\n",
    "            splitFinalVal = i.split(\" \")\n",
    "            for j in splitFinalVal:\n",
    "                #print(j)\n",
    "                if j in ethnicities:\n",
    "                    final.append(j)\n",
    "        #else:\n",
    "            #print(\"Removed: \", i)\n",
    "    return final"
   ]
  },
  {
   "cell_type": "code",
   "execution_count": null,
   "id": "familiar-thing",
   "metadata": {
    "scrolled": true
   },
   "outputs": [],
   "source": [
    "for i in convertArray:\n",
    "    for j in i:\n",
    "        if j[0] == \"ethnicity\":\n",
    "            answers = ethnicityChange(j[1])\n",
    "            if len(answers) > 2:\n",
    "                a = random.sample(range(0, len(answers)), 2)\n",
    "                j[1] = [answers[a[0]],answers[a[1]]]\n",
    "            elif len(answers) == 2:\n",
    "                j[1] = answers\n",
    "            elif len(answers) == 1:\n",
    "                j[1] = [answers[0],\"\"]\n",
    "            elif len(answers) == 0:\n",
    "                j[1] = [\"\",\"\"]\n",
    "            else:\n",
    "                raise Exception(\"Error Code\")"
   ]
  },
  {
   "cell_type": "raw",
   "id": "organized-guess",
   "metadata": {},
   "source": [
    "lst = []\n",
    "for i in convertArray:\n",
    "    for j in i:\n",
    "        if j[0] == \"ethnicity\":\n",
    "            for i in j[1]:\n",
    "                lst.append(i)\n",
    "A = Counter(lst)\n",
    "lst = list(set(lst))"
   ]
  },
  {
   "cell_type": "raw",
   "id": "robust-cattle",
   "metadata": {},
   "source": [
    "r=0\n",
    "for key, value in A.items():\n",
    "    if value < 50:\n",
    "        print(key + \"\\t\" + str(value))\n",
    "    else:\n",
    "        r+=1"
   ]
  },
  {
   "cell_type": "raw",
   "id": "excess-aberdeen",
   "metadata": {},
   "source": [
    "def removeNon(string):\n",
    "    lst = string.split()\n",
    "    updated = lst\n",
    "    ct = 0\n",
    "    for i in lst:\n",
    "        if \"not\" in i or \"non\" in i:\n",
    "            updated.remove(lst[ct+1])\n",
    "        ct+=1\n",
    "    return lst"
   ]
  },
  {
   "cell_type": "markdown",
   "id": "administrative-killing",
   "metadata": {},
   "source": [
    "### ```cancer_dx```\n",
    "\n",
    "only yes or no answer"
   ]
  },
  {
   "cell_type": "code",
   "execution_count": null,
   "id": "suspected-zimbabwe",
   "metadata": {},
   "outputs": [],
   "source": [
    "for i in convertArray:\n",
    "    for j in i:\n",
    "        if j[0] == \"cancer_dx\":\n",
    "            j[1] = j[1].lower().strip()"
   ]
  },
  {
   "cell_type": "markdown",
   "id": "chief-librarian",
   "metadata": {},
   "source": [
    "### ```cancer_dx_type```\n",
    "\n",
    "\n",
    "Going to drop look into later"
   ]
  },
  {
   "cell_type": "code",
   "execution_count": null,
   "id": "residential-expert",
   "metadata": {},
   "outputs": [],
   "source": [
    "for i in convertArray:\n",
    "    for j in i:\n",
    "        if j[0] == \"cancer_dx_type\":\n",
    "            j[1] = j[1].lower().strip()\n",
    "            print(j)"
   ]
  },
  {
   "cell_type": "raw",
   "id": "motivated-pencil",
   "metadata": {},
   "source": [
    "lst = []\n",
    "for i in convertArray:\n",
    "    for j in i:\n",
    "        if j[0] == \"cancer_dx_type\":\n",
    "            lst.append(j[1])\n",
    "A = Counter(lst)\n",
    "lst = list(set(lst))"
   ]
  },
  {
   "cell_type": "raw",
   "id": "accompanied-remainder",
   "metadata": {},
   "source": [
    "r=0\n",
    "for key, value in A.items():\n",
    "    if value < 30:\n",
    "        print(key + \"\\t\" + str(value))\n",
    "    else:\n",
    "        r+=1"
   ]
  },
  {
   "cell_type": "markdown",
   "id": "twelve-algebra",
   "metadata": {},
   "source": [
    "### ```relationships```"
   ]
  },
  {
   "cell_type": "code",
   "execution_count": null,
   "id": "alleged-netscape",
   "metadata": {},
   "outputs": [],
   "source": [
    "ctPointDelete = 0\n",
    "for i in convertArray:\n",
    "    for j in i:\n",
    "        if j[0] == \"relationships\":\n",
    "            #j[1] = j[1].lower().strip()\n",
    "            pointsRemoved.append([\"Relationships\",ctPointDelete])\n",
    "            #print(j[1])\n",
    "    ctPointDelete+=1"
   ]
  },
  {
   "cell_type": "code",
   "execution_count": null,
   "id": "outstanding-simpson",
   "metadata": {},
   "outputs": [],
   "source": [
    "for i in pointsRemoved:\n",
    "    del convertArray[i[1]]\n",
    "pointsRemoved = []"
   ]
  },
  {
   "cell_type": "markdown",
   "id": "experimental-slide",
   "metadata": {},
   "source": [
    "### ```cancer_dx_age```\n",
    "average if multiple"
   ]
  },
  {
   "cell_type": "code",
   "execution_count": null,
   "id": "possible-retailer",
   "metadata": {},
   "outputs": [],
   "source": [
    "ctRemovedAge = 0\n",
    "for i in convertArray:\n",
    "    for j in i:\n",
    "        if j[0] == \"cancer_dx_age\":\n",
    "            #j[1] = j[1].replace()\n",
    "            if type(j[1]) != int and j[1] != '':\n",
    "                r = j[1].strip().replace(\"and\",\",\").split(\",\")\n",
    "                r = [s.strip() for s in r]\n",
    "                dele = False\n",
    "                for vla in r:\n",
    "                    try:\n",
    "                        vla = int(vla)\n",
    "                    except:\n",
    "                        dele = True\n",
    "                        convertArray.remove(i)\n",
    "                        ctRemovedAge+=1\n",
    "                if not dele: j[1] = int(statistics.mean(map(int, r)) )\n",
    "print(\"Deleted {}\".format(ctRemovedAge))"
   ]
  },
  {
   "cell_type": "markdown",
   "id": "special-measure",
   "metadata": {},
   "source": [
    "### ```known_brca```"
   ]
  },
  {
   "cell_type": "code",
   "execution_count": null,
   "id": "vocational-dream",
   "metadata": {},
   "outputs": [],
   "source": [
    "for i in convertArray:\n",
    "    for j in i:\n",
    "        if j[0] == \"known_brca\":\n",
    "            j[1] = j[1].replace(\"U\",\"unknown\").lower().strip()\n",
    "            #print(j)"
   ]
  },
  {
   "cell_type": "markdown",
   "id": "similar-opera",
   "metadata": {},
   "source": [
    "### ```rel_relation```"
   ]
  },
  {
   "cell_type": "code",
   "execution_count": null,
   "id": "juvenile-retirement",
   "metadata": {},
   "outputs": [],
   "source": [
    "import string"
   ]
  },
  {
   "cell_type": "code",
   "execution_count": null,
   "id": "periodic-cutting",
   "metadata": {},
   "outputs": [],
   "source": [
    "CounterList = []\n",
    "exclude = set(string.punctuation)\n",
    "for i in convertArray:\n",
    "    for j in i:\n",
    "        if j[0] == \"rel_relation\":\n",
    "            #print(j)\n",
    "            newList = []         \n",
    "            for valr in j[1]:\n",
    "                value = valr.lower().replace(\"paternal\",\"\").replace(\"mom\",\"mother\").replace(\"grandpa\",\"grandfather\")\n",
    "                value = value.replace(\"grandma\",\"grandmother\").replace(\"first\",\"\").replace(\"dad\",\"father\").replace(\"1st\",\"\")\n",
    "                value = value.replace(\"maternal\",\"\").replace(\"greatgrandmother\", \"great grandmother\")\n",
    "                value = ''.join(ch for ch in value if ch not in exclude)\n",
    "                newList.append(value.strip())\n",
    "            if len(newList) > 1 and \"\" in newList:\n",
    "                newList.remove(\"\")\n",
    "            j[1] = list(set(newList))\n",
    "            CounterList.extend(list(set(newList)))\n",
    "            #print(j)"
   ]
  },
  {
   "cell_type": "code",
   "execution_count": null,
   "id": "buried-wayne",
   "metadata": {},
   "outputs": [],
   "source": [
    "A = Counter(CounterList)\n",
    "r=0\n",
    "lol = 0\n",
    "removeLst = []\n",
    "for key, value in A.items():\n",
    "    if value > 10:\n",
    "        #print(key)#\n",
    "        lol+=value\n",
    "    else:\n",
    "        r+=1"
   ]
  },
  {
   "cell_type": "code",
   "execution_count": null,
   "id": "innovative-entertainment",
   "metadata": {},
   "outputs": [],
   "source": [
    "possibleRelationship = [\"aunt\", \"brother\", \"cousin\", \"daughter\", \"father\", \"grandfather\", \"grandmother\", \"great aunt\", \n",
    "                        \"great grandfather\", \"great grandmother\", \"great uncle\", \"mother\", \"niece\", \"sister\", \"uncle\"]"
   ]
  },
  {
   "cell_type": "code",
   "execution_count": null,
   "id": "dependent-binary",
   "metadata": {},
   "outputs": [],
   "source": [
    "for i in convertArray:\n",
    "    for j in i:\n",
    "        if j[0] == \"rel_relation\":\n",
    "            newList = []\n",
    "            for valr in j[1]:\n",
    "                if not valr in possibleRelationship:\n",
    "                    newList.append(\"\")\n",
    "                else:\n",
    "                    newList.append(valr)\n",
    "            newList = list(set(newList))\n",
    "            if (\"\" in newList) and (not \"\" in newList) and len(newList) != 1:\n",
    "                newList.remove(\"\")\n",
    "            j[1] = newList\n",
    "            print(j)\n",
    "#possibleRelationship.append(\"\")"
   ]
  },
  {
   "cell_type": "markdown",
   "id": "honey-sense",
   "metadata": {},
   "source": [
    "### ```rel_cancer```"
   ]
  },
  {
   "cell_type": "code",
   "execution_count": null,
   "id": "boolean-distributor",
   "metadata": {
    "scrolled": true
   },
   "outputs": [],
   "source": [
    "%%time\n",
    "R = []\n",
    "relCancerPoss = [\"bile duct\", \"bladder\", \"bone\", \"brain\", \"breast\", \"cervical\", \"colon\", \"colorectal\", \"endometrial\", \n",
    "                 \"esophageal\", \"kidney\", \"leukemia\", \"liver\", \"lung\", \"lymphoma\", \"melanoma\", \"mesothelioma\", \"mouth\", \n",
    "                 \"myeloma\", \"non hodgkins lymphoma\", \"ovarian\", \"pancreas\", \"pancreatic\", \"prostate\", \"prostrate\", \"rectal\",\n",
    "                 \"skin\", \"stomach\", \"testicular\", \"throat\", \"thyroid\", \"uterine\"]\n",
    "exclude = set(string.punctuation)\n",
    "for i in convertArray:\n",
    "    for j in i:\n",
    "        if j[0] == \"rel_cancer\":\n",
    "            tst = []\n",
    "            #print(j[1])\n",
    "            for valr in j[1]:\n",
    "                point = valr.lower().replace(\"cancer\",\"\").replace(\"prostrate\",\"prostate\").replace(\"unknown\",\"\").replace(\"multiple\",\"\").replace(\"leukemia cml\", \"leukemia\").replace(\"tumor\",\"\").strip()\n",
    "                point = ''.join(ch for ch in point if ch not in exclude)\n",
    "                #print(point)\n",
    "                for i in relCancerPoss:\n",
    "                    if i in point:\n",
    "                        point = i  \n",
    "                if not point in relCancerPoss and point != \"\":\n",
    "                    spellChange = spell.correction(point)\n",
    "                    if point != spellChange:\n",
    "                        point = spellChange\n",
    "                tst.append(point)\n",
    "            if len(tst) > 1 and \"\" in tst:\n",
    "                tst.remove(\"\")\n",
    "            j[1] = list(set(tst))\n",
    "            print(j)\n",
    "            R.extend(j[1])\n",
    "#relCancerPoss.append(\"\")"
   ]
  },
  {
   "cell_type": "raw",
   "id": "tamil-tracy",
   "metadata": {},
   "source": [
    "lstMain = [\"ovarian\", \"bladder\", \"breast\", \"liver\", \"\", \"colon\", \"uterine\", \"brain\", \"lung\", \"pancreatic\", \"lymphoma\", \n",
    "           \"skin\", \"leukemia\", \"prostate\", \"cervical\", \"stomach\", \"throat\", \"thyroid\", \"bone\", \"melanoma\", \"kidney\"]\n",
    "pother = [\"squamous cell carcinoa\", \"i\"]\n",
    "for i in convertArray:\n",
    "    for j in i:\n",
    "        if j[0] == \"rel_cancer\":\n",
    "            for valr in j[1]:\n",
    "                if not valr in lstMain and not valr in pother:\n",
    "                    print(j[1], valr)\n",
    "for i in convertArray:\n",
    "    for j in i:\n",
    "        if j[0] == \"rel_cancer\":\n",
    "            for valr in j[1]:\n",
    "                if valr == \"prostae\":\n",
    "                    print(j[1], valr)\n"
   ]
  },
  {
   "cell_type": "raw",
   "id": "selected-replication",
   "metadata": {},
   "source": [
    "r=0\n",
    "for key, value in Counter(R).items():\n",
    "    if value > 5:\n",
    "        print(key + \"\\t\" + str(value))\n",
    "    else:\n",
    "        r+=1"
   ]
  },
  {
   "cell_type": "code",
   "execution_count": null,
   "id": "ultimate-queue",
   "metadata": {},
   "outputs": [],
   "source": [
    "for i in convertArray:\n",
    "    for j in i:\n",
    "        if j[0] == \"rel_cancer\":\n",
    "            print(j)"
   ]
  },
  {
   "cell_type": "markdown",
   "id": "straight-davis",
   "metadata": {},
   "source": [
    "### ```rel_age```"
   ]
  },
  {
   "cell_type": "code",
   "execution_count": null,
   "id": "inner-polish",
   "metadata": {
    "scrolled": true
   },
   "outputs": [],
   "source": [
    "exclude = set(string.punctuation)\n",
    "ctdelRel_AGE = 0\n",
    "pointersToRemove = 0\n",
    "for i in convertArray:\n",
    "    for j in i:\n",
    "        if j[0] == \"rel_age\":\n",
    "            newListAge = []\n",
    "            for val in j[1]:\n",
    "                valr = val.replace(\"unknown\", \"\").replace(\"?\", \"\").replace(\"late\", \"\").replace(\"ish\", \"\").replace(\"s\", \"\").replace(\"'\", \"\").replace(\"appx\", \"\").replace(\"approx.\", \"\").replace(\"~\", \"\").replace(\"Over\", \"\").strip()\n",
    "                valr = ''.join(ch for ch in valr if ch not in exclude)\n",
    "                try:\n",
    "                    valr = valr.lower().strip().replace(\"n/a\",\"\").replace(\"not sure\",\"\").replace(\"not ure\",\"\").replace(\"non\",\"\").replace(\"unure\",\"\").replace(\"Ukwn\",\"\").replace(\"unk\",\"\").replace(\"unknown\",\"\").replace(\"Unkown\",\"\").replace(\"UK\",\"\")\n",
    "                except:\n",
    "                    print(\"Error Check - \", valr)\n",
    "                    raise Exception(\"Changing Text\")\n",
    "                if valr != \"\":\n",
    "                    try:\n",
    "                        newListAge.append(int(valr))            \n",
    "                    except:\n",
    "                        print(\"Deleting:\", valr)\n",
    "            if len(newListAge) > 3:\n",
    "                a,b,c = np.percentile([67, 35, 64, 74, 82, 55], [25, 50, 75])\n",
    "                j[1] = [int(a),int(b),int(c)]\n",
    "            elif len(newListAge) == 3:\n",
    "                j[1] = newListAge\n",
    "            elif len(newListAge) == 2:\n",
    "                j[1] = [newListAge[0], newListAge[1], 0] \n",
    "            elif len(newListAge) == 1:\n",
    "                j[1] = [newListAge[0], 0, 0] \n",
    "            else:\n",
    "                print(j)\n",
    "                j[1] = [0,0,0]\n",
    "    pointersToRemove+=1\n",
    "print(ctdelRel_AGE)"
   ]
  },
  {
   "cell_type": "markdown",
   "id": "flying-plumbing",
   "metadata": {},
   "source": [
    "### ```_method```\n",
    "\n",
    "Since this column is esentially useless, I will drop it"
   ]
  },
  {
   "cell_type": "code",
   "execution_count": null,
   "id": "frozen-cloud",
   "metadata": {},
   "outputs": [],
   "source": [
    "#for i in convertArray:\n",
    "    #for j in i:\n",
    "        #if j[0] == \"_method\":\n",
    "            #print(j)"
   ]
  },
  {
   "cell_type": "markdown",
   "id": "conservative-pizza",
   "metadata": {},
   "source": [
    "### ```other_cancer```\n",
    "\n",
    "Too few data points"
   ]
  },
  {
   "cell_type": "code",
   "execution_count": null,
   "id": "quality-liver",
   "metadata": {},
   "outputs": [],
   "source": [
    "for i in convertArray:\n",
    "    for j in i:\n",
    "        if j[0] == \"other_cancer\":\n",
    "            print(j)"
   ]
  },
  {
   "cell_type": "markdown",
   "id": "tribal-partner",
   "metadata": {},
   "source": [
    "# Show Data"
   ]
  },
  {
   "cell_type": "code",
   "execution_count": null,
   "id": "diverse-istanbul",
   "metadata": {},
   "outputs": [],
   "source": [
    "def conv2dLstTo1d(array):\n",
    "    r = []\n",
    "    for i in array:\n",
    "        if type(i) == list:\n",
    "            for j in i:\n",
    "                r.append(j)\n",
    "        else:\n",
    "            r.append(i)\n",
    "    return r"
   ]
  },
  {
   "cell_type": "code",
   "execution_count": null,
   "id": "offshore-documentary",
   "metadata": {},
   "outputs": [],
   "source": [
    "display = []\n",
    "titles = [\"Name\",\"Percentage\", \"Count\", \"Types\", \"Example 5 data\"]\n",
    "lstOfAllData = []\n",
    "total = 0\n",
    "for txt in possible:\n",
    "    tempArrayTypes=[]\n",
    "    ctVal = 0\n",
    "    ctR = 0\n",
    "    for i in convertArray:\n",
    "        hasValue = False\n",
    "        for j in i:\n",
    "            if j[0] == txt:\n",
    "                hasValue = True\n",
    "                tempArrayTypes.append(j[1])\n",
    "                ctR+=1\n",
    "        if not hasValue: ctVal += 1\n",
    "    total+=1\n",
    "    display.append([txt, (ctVal/total)*100, ctR,len(set(conv2dLstTo1d(tempArrayTypes))), \n",
    "                    list(Counter(conv2dLstTo1d(tempArrayTypes)).keys())[0:5]])\n",
    "    lstOfAllData.append([txt, list(Counter(conv2dLstTo1d(tempArrayTypes)).keys())])\n",
    "    "
   ]
  },
  {
   "cell_type": "code",
   "execution_count": null,
   "id": "hawaiian-scottish",
   "metadata": {},
   "outputs": [],
   "source": [
    "df = pd.DataFrame(display, columns = titles)"
   ]
  },
  {
   "cell_type": "code",
   "execution_count": null,
   "id": "hairy-hanging",
   "metadata": {},
   "outputs": [],
   "source": [
    "df"
   ]
  },
  {
   "cell_type": "code",
   "execution_count": null,
   "id": "multiple-following",
   "metadata": {},
   "outputs": [],
   "source": [
    "for i in pointsRemoved:\n",
    "    del convertArray[i[1]]"
   ]
  },
  {
   "cell_type": "markdown",
   "id": "binding-rough",
   "metadata": {},
   "source": [
    "# Encoding"
   ]
  },
  {
   "cell_type": "code",
   "execution_count": null,
   "id": "deadly-north",
   "metadata": {},
   "outputs": [],
   "source": [
    "saveMe = convertArray"
   ]
  },
  {
   "cell_type": "code",
   "execution_count": null,
   "id": "removable-money",
   "metadata": {},
   "outputs": [],
   "source": [
    "convertArray = saveMe"
   ]
  },
  {
   "cell_type": "code",
   "execution_count": null,
   "id": "damaged-teens",
   "metadata": {},
   "outputs": [],
   "source": [
    "requiredTitles = ['Pathogenic','Gene','History_class','consent_approval','ethnicity','cancer_dx','cancer_dx_type',\n",
    "                  'relationships','cancer_dx_age','known_brca','known_cancer','rel_relation','rel_cancer','rel_age',\n",
    "                  '_method','other_cancer']\n",
    "finalData = []\n",
    "for i in convertArray:\n",
    "    tempArray = i\n",
    "    titlesArrayTemp = []\n",
    "    for j in tempArray:\n",
    "        titlesArrayTemp.append(j[0])\n",
    "    for k in requiredTitles:\n",
    "        if not k in titlesArrayTemp:\n",
    "            if k == \"rel_age\":\n",
    "                tempArray.append([k,[0,0,0]])\n",
    "            else:\n",
    "                tempArray.append([k,\"-\"])\n",
    "    tempArray.sort()\n",
    "    finalData.append(tempArray)"
   ]
  },
  {
   "cell_type": "code",
   "execution_count": null,
   "id": "growing-voice",
   "metadata": {},
   "outputs": [],
   "source": [
    "count = 0\n",
    "for i in finalData:\n",
    "    if (len(i)) != 16:\n",
    "        del finalData[count]\n",
    "        print(\"Deleted.\")\n",
    "    count+=1"
   ]
  },
  {
   "cell_type": "code",
   "execution_count": null,
   "id": "considered-hurricane",
   "metadata": {},
   "outputs": [],
   "source": [
    "len(finalData)"
   ]
  },
  {
   "cell_type": "raw",
   "id": "caring-entry",
   "metadata": {},
   "source": [
    "finalDataDF = []\n",
    "for i in finalData:\n",
    "    temp = []\n",
    "    for j in i:\n",
    "        temp.append(j[1])\n",
    "    finalDataDF.append(temp)"
   ]
  },
  {
   "cell_type": "raw",
   "id": "dying-approval",
   "metadata": {},
   "source": [
    "for i in range(10):\n",
    "    pprint(convertArray[random.randint(0,len(convertArray))])"
   ]
  },
  {
   "cell_type": "raw",
   "id": "israeli-feeding",
   "metadata": {},
   "source": [
    "finalData = []\n",
    "for i in convertArray:\n",
    "    if not(i[0][0] == \"Pathogenic\" and i[1][0] == \"Gene\" and i[2][0] == \"History_class\" and i[3][0] == \"consent_approval\" and \n",
    "           i[4][0] == \"ethnicity\" and i[5][0] == \"cancer_dx\" and i[6][0] == \"cancer_dx_type\" and i[7][0] == \"cancer_dx_age\" and \n",
    "           i[8][0] == \"known_brca\" and i[9][0] == \"known_cancer\" and i[10][0] == \"rel_relation\" and i[11][0] == \"rel_cancer\" and \n",
    "           i[12][0] == \"rel_age\"):\n",
    "        print(i)"
   ]
  },
  {
   "cell_type": "code",
   "execution_count": null,
   "id": "educated-stanford",
   "metadata": {},
   "outputs": [],
   "source": [
    "def encodeRelationship(lst):\n",
    "    string = \"\"\n",
    "    for rel in possibleRelationship:\n",
    "        if rel in lst:\n",
    "            string+=\"1\"\n",
    "        else:\n",
    "            string+=\"0\"\n",
    "    return string"
   ]
  },
  {
   "cell_type": "code",
   "execution_count": null,
   "id": "metropolitan-model",
   "metadata": {},
   "outputs": [],
   "source": [
    "def encodeRelCancer(lst):\n",
    "    string = \"\"\n",
    "    for rel in relCancerPoss:\n",
    "        if rel in lst:\n",
    "            string+=\"1\"\n",
    "        else:\n",
    "            string+=\"0\"\n",
    "    return string"
   ]
  },
  {
   "cell_type": "code",
   "execution_count": null,
   "id": "scenic-reporter",
   "metadata": {},
   "outputs": [],
   "source": [
    "finalDataDF = []\n",
    "for i in finalData:\n",
    "    tempArray = []\n",
    "    for j in i:\n",
    "        if j[0] == \"ethnicity\":\n",
    "            tempArray.append(j[1][0])\n",
    "            tempArray.append(j[1][1])\n",
    "        elif j[0] == \"rel_relation\":\n",
    "            tempArray.append(encodeRelationship(j[1]))\n",
    "        elif j[0] == \"rel_cancer\":\n",
    "            tempArray.append(encodeRelCancer(j[1]))\n",
    "        elif j[0] == \"rel_age\":\n",
    "            try:\n",
    "                tempArray.append(j[1][0])\n",
    "                tempArray.append(j[1][1])\n",
    "                tempArray.append(j[1][2])\n",
    "            except IndexError:\n",
    "                print(\"Error with data defaulting to 0\")\n",
    "                print(j)\n",
    "                tempArray.append(0)\n",
    "                tempArray.append(0)\n",
    "                tempArray.append(0)\n",
    "        elif j[0] == \"cancer_dx_age\":\n",
    "            if j[1] == \"\":\n",
    "                tempArray.append(0)\n",
    "            else:\n",
    "                tempArray.append(j[1])\n",
    "        else:\n",
    "            tempArray.append(j[1])\n",
    "        print(j)\n",
    "    print(\"\")\n",
    "    finalDataDF.append(tempArray)"
   ]
  },
  {
   "cell_type": "code",
   "execution_count": null,
   "id": "particular-season",
   "metadata": {},
   "outputs": [],
   "source": [
    "dfArray = []\n",
    "for i in finalDataDF:\n",
    "    if len(i) == 19:\n",
    "        dfArray.append(i)"
   ]
  },
  {
   "cell_type": "code",
   "execution_count": null,
   "id": "compressed-stylus",
   "metadata": {},
   "outputs": [],
   "source": [
    "df = pd.DataFrame(dfArray, columns = ['Gene', 'History_class', 'Pathogenic','_method', 'cancer_dx','cancer_dx_age',\n",
    "                                      'cancer_dx_type', 'consent_approval','ethnicity_1','ethnicity_2', 'known_brca', \n",
    "                                      'known_cancer', 'other_cancer', 'rel_age_1', 'rel_age_2', 'rel_age_3', 'rel_cancer', \n",
    "                                      'rel_relation', 'relationships'])"
   ]
  },
  {
   "cell_type": "code",
   "execution_count": null,
   "id": "generous-invitation",
   "metadata": {},
   "outputs": [],
   "source": [
    "df"
   ]
  },
  {
   "cell_type": "markdown",
   "id": "fallen-adjustment",
   "metadata": {},
   "source": [
    "# Lets do this"
   ]
  },
  {
   "cell_type": "code",
   "execution_count": null,
   "id": "applied-attraction",
   "metadata": {},
   "outputs": [],
   "source": [
    "%matplotlib inline\n",
    "import matplotlib.pyplot as plt\n",
    "\n",
    "import math\n",
    "import tensorflow as tf\n",
    "import numpy as np\n",
    "from numpy import unique\n",
    "import pandas as pd\n",
    "from tensorflow import keras\n",
    "from tensorflow.keras import layers\n",
    "from tensorflow.keras.callbacks import ModelCheckpoint, Callback, TensorBoard"
   ]
  },
  {
   "cell_type": "code",
   "execution_count": null,
   "id": "martial-accent",
   "metadata": {},
   "outputs": [],
   "source": [
    "dataframe = df.drop(['Gene','Pathogenic','_method', 'relationships', 'consent_approval'], axis=1)"
   ]
  },
  {
   "cell_type": "code",
   "execution_count": null,
   "id": "progressive-hurricane",
   "metadata": {},
   "outputs": [],
   "source": [
    "val_dataframe = dataframe.sample(frac=0.2, random_state=1337)\n",
    "pred_dataframe = dataframe.sample(frac=0.1, random_state=1337)\n",
    "train_dataframe = dataframe.drop(val_dataframe.index)"
   ]
  },
  {
   "cell_type": "code",
   "execution_count": null,
   "id": "sweet-colorado",
   "metadata": {},
   "outputs": [],
   "source": [
    "print(\"Using %d samples for training, %d for validation and %d for predicting\" \n",
    "      % (len(train_dataframe), len(val_dataframe), len(pred_dataframe)))\n",
    "\n",
    "def dataframe_to_dataset(dataframe):\n",
    "    dataframe = dataframe.copy()\n",
    "    labels = dataframe.pop(\"History_class\")\n",
    "    ds = tf.data.Dataset.from_tensor_slices((dict(dataframe), labels))\n",
    "    ds = ds.shuffle(buffer_size=len(dataframe))\n",
    "    return ds\n",
    "\n",
    "\n",
    "def pred_dataframe_to_dataset(dataframe):\n",
    "    dataframe = dataframe.copy()\n",
    "    ds = tf.data.Dataset.from_tensor_slices((dict(dataframe)))\n",
    "    ds = ds.shuffle(buffer_size=len(dataframe))\n",
    "    return ds\n",
    "\n",
    "\n",
    "\n",
    "train_ds = dataframe_to_dataset(train_dataframe)\n",
    "val_ds = dataframe_to_dataset(val_dataframe)\n",
    "pred_ds = pred_dataframe_to_dataset(pred_dataframe)\n",
    "\n",
    "for x, y in train_ds.take(1):\n",
    "    print(\"Input:\", x)\n",
    "    print(\"Target:\", y)\n",
    "\n",
    "train_ds = train_ds.batch(32)\n",
    "val_ds = val_ds.batch(32)"
   ]
  },
  {
   "cell_type": "code",
   "execution_count": null,
   "id": "bulgarian-victor",
   "metadata": {},
   "outputs": [],
   "source": [
    "train_ds.take(1)"
   ]
  },
  {
   "cell_type": "code",
   "execution_count": null,
   "id": "aging-option",
   "metadata": {},
   "outputs": [],
   "source": [
    "{'cancer_dx': <tf.Tensor: shape=(), dtype=string, numpy=b'no'>, \n",
    " 'cancer_dx_age': <tf.Tensor: shape=(), dtype=int64, numpy=0>, \n",
    " 'cancer_dx_type': <tf.Tensor: shape=(), dtype=string, numpy=b''>, \n",
    " 'ethnicity_1': <tf.Tensor: shape=(), dtype=string, numpy=b'caucasian'>, \n",
    " 'ethnicity_2': <tf.Tensor: shape=(), dtype=string, numpy=b''>, \n",
    " 'known_brca': <tf.Tensor: shape=(), dtype=string, numpy=b'yes'>, \n",
    " 'known_cancer': <tf.Tensor: shape=(), dtype=string, numpy=b'yes'>, \n",
    " 'other_cancer': <tf.Tensor: shape=(), dtype=string, numpy=b'-'>, \n",
    " 'rel_age_1': <tf.Tensor: shape=(), dtype=int64, numpy=60>, \n",
    " 'rel_age_2': <tf.Tensor: shape=(), dtype=int64, numpy=70>, \n",
    " 'rel_age_3': <tf.Tensor: shape=(), dtype=int64, numpy=50>, \n",
    " 'rel_cancer': <tf.Tensor: shape=(), dtype=string, numpy=b'00001000000000000000100000000000'>, \n",
    " 'rel_relation': <tf.Tensor: shape=(), dtype=string, numpy=b'100000100000000'>}"
   ]
  },
  {
   "cell_type": "code",
   "execution_count": null,
   "id": "pursuant-saying",
   "metadata": {},
   "outputs": [],
   "source": [
    "Target: tf.Tensor(b'strong_family', shape=(), dtype=string)\n"
   ]
  },
  {
   "cell_type": "code",
   "execution_count": null,
   "id": "welsh-tennis",
   "metadata": {},
   "outputs": [],
   "source": [
    "from tensorflow.keras.layers.experimental.preprocessing import Normalization\n",
    "from tensorflow.keras.layers.experimental.preprocessing import CategoryEncoding\n",
    "from tensorflow.keras.layers.experimental.preprocessing import StringLookup\n",
    "\n",
    "\n",
    "def encode_numerical_feature(feature, name, dataset):\n",
    "    # Create a Normalization layer for our feature\n",
    "    normalizer = Normalization()\n",
    "\n",
    "    # Prepare a Dataset that only yields our feature\n",
    "    feature_ds = dataset.map(lambda x, y: x[name])\n",
    "    feature_ds = feature_ds.map(lambda x: tf.expand_dims(x, -1))\n",
    "\n",
    "    # Learn the statistics of the data\n",
    "    normalizer.adapt(feature_ds)\n",
    "\n",
    "    # Normalize the input feature\n",
    "    encoded_feature = normalizer(feature)\n",
    "    return encoded_feature\n",
    "\n",
    "\n",
    "def encode_string_categorical_feature(feature, name, dataset):\n",
    "    # Create a StringLookup layer which will turn strings into integer indices\n",
    "    index = StringLookup()\n",
    "\n",
    "    # Prepare a Dataset that only yields our feature\n",
    "    feature_ds = dataset.map(lambda x, y: x[name])\n",
    "    feature_ds = feature_ds.map(lambda x: tf.expand_dims(x, -1))\n",
    "\n",
    "    # Learn the set of possible string values and assign them a fixed integer index\n",
    "    index.adapt(feature_ds)\n",
    "\n",
    "    # Turn the string input into integer indices\n",
    "    encoded_feature = index(feature)\n",
    "\n",
    "    # Create a CategoryEncoding for our integer indices\n",
    "    encoder = CategoryEncoding(output_mode=\"binary\")\n",
    "\n",
    "    # Prepare a dataset of indices\n",
    "    feature_ds = feature_ds.map(index)\n",
    "\n",
    "    # Learn the space of possible indices\n",
    "    encoder.adapt(feature_ds)\n",
    "\n",
    "    # Apply one-hot encoding to our indices\n",
    "    encoded_feature = encoder(encoded_feature)\n",
    "    return encoded_feature\n",
    "\n",
    "\n",
    "def encode_integer_categorical_feature(feature, name, dataset):\n",
    "    # Create a CategoryEncoding for our integer indices\n",
    "    encoder = CategoryEncoding(output_mode=\"binary\")\n",
    "\n",
    "    # Prepare a Dataset that only yields our feature\n",
    "    feature_ds = dataset.map(lambda x, y: x[name])\n",
    "    feature_ds = feature_ds.map(lambda x: tf.expand_dims(x, -1))\n",
    "\n",
    "    # Learn the space of possible indices\n",
    "    encoder.adapt(feature_ds)\n",
    "\n",
    "    # Apply one-hot encoding to our indices\n",
    "    encoded_feature = encoder(feature)\n",
    "    return encoded_feature"
   ]
  },
  {
   "cell_type": "code",
   "execution_count": null,
   "id": "democratic-sacramento",
   "metadata": {},
   "outputs": [],
   "source": [
    "Cancer_dx_Age = keras.Input(shape=(1,), name=\"cancer_dx_age\", dtype=\"int64\")\n",
    "Relative_Age_1 = keras.Input(shape=(1,), name=\"rel_age_1\", dtype=\"int64\")\n",
    "Relative_Age_2 = keras.Input(shape=(1,), name=\"rel_age_2\", dtype=\"int64\")\n",
    "Relative_Age_3 = keras.Input(shape=(1,), name=\"rel_age_3\", dtype=\"int64\")\n",
    "\n",
    "\n",
    "Relative_Cancer = keras.Input(shape=(1,), name=\"rel_cancer\", dtype=\"string\")\n",
    "Relative_Relation = keras.Input(shape=(1,), name=\"rel_relation\", dtype=\"string\")\n",
    "Cancer_Dx = keras.Input(shape=(1,), name=\"cancer_dx\", dtype=\"string\")\n",
    "Cancer_Dx_Type = keras.Input(shape=(1,), name=\"cancer_dx_type\", dtype=\"string\")\n",
    "Ethnicity_1 = keras.Input(shape=(1,), name=\"ethnicity_1\", dtype=\"string\")\n",
    "Ethnicity_2 = keras.Input(shape=(1,), name=\"ethnicity_2\", dtype=\"string\")\n",
    "Known_BRCA = keras.Input(shape=(1,), name=\"known_brca\", dtype=\"string\")\n",
    "Known_Cancer = keras.Input(shape=(1,), name=\"known_cancer\", dtype=\"string\")\n",
    "Other_Cancer = keras.Input(shape=(1,), name=\"other_cancer\", dtype=\"string\")\n",
    "\n",
    "#Cancer_dx_Age = keras.Input(shape=(1,), name=\"cancer_dx_age\")\n",
    "#Relative_Age_1 = keras.Input(shape=(1,), name=\"rel_age_1\")\n",
    "#Relative_Age_2 = keras.Input(shape=(1,), name=\"rel_age_2\")\n",
    "#Relative_Age_3 = keras.Input(shape=(1,), name=\"rel_age_3\")\n",
    "\n",
    "\n",
    "all_inputs = [\n",
    "    Relative_Cancer,\n",
    "    Relative_Relation,\n",
    "    Cancer_Dx,\n",
    "    Cancer_Dx_Type,\n",
    "    Ethnicity_1,\n",
    "    Ethnicity_2,\n",
    "    Known_BRCA,\n",
    "    Known_Cancer,\n",
    "    Other_Cancer,\n",
    "\n",
    "    Cancer_dx_Age,\n",
    "    Relative_Age_1,\n",
    "    Relative_Age_2,\n",
    "    Relative_Age_3]"
   ]
  },
  {
   "cell_type": "code",
   "execution_count": null,
   "id": "ahead-popularity",
   "metadata": {},
   "outputs": [],
   "source": [
    "# Integer categorical features\n",
    "#Education_encoded = encode_integer_categorical_feature(Education, \"Education\", train_ds)\n",
    "\n",
    "\n",
    "# String categorical features\n",
    "Relative_Cancer_encoded = encode_string_categorical_feature(Relative_Cancer, \"rel_cancer\", train_ds)\n",
    "Relative_Relation_encoded = encode_string_categorical_feature(Relative_Relation, \"rel_relation\", train_ds)\n",
    "Cancer_Dx_encoded = encode_string_categorical_feature(Cancer_Dx, \"cancer_dx\", train_ds)\n",
    "Cancer_Dx_Type_encoded = encode_string_categorical_feature(Cancer_Dx_Type, \"cancer_dx_type\", train_ds)\n",
    "Ethnicity_1_encoded = encode_string_categorical_feature(Ethnicity_1, \"ethnicity_1\", train_ds)\n",
    "Ethnicity_2_encoded = encode_string_categorical_feature(Ethnicity_2, \"ethnicity_2\", train_ds)\n",
    "Known_BRCA_encoded = encode_string_categorical_feature(Known_BRCA, \"known_brca\", train_ds)\n",
    "Known_Cancer_encoded = encode_string_categorical_feature(Known_Cancer, \"known_cancer\", train_ds)\n",
    "Other_Cancer_encoded = encode_string_categorical_feature(Other_Cancer, \"other_cancer\", train_ds)\n",
    "\n",
    "# Numerical features\n",
    "Cancer_dx_Age_encoded = encode_integer_categorical_feature(Cancer_dx_Age, \"cancer_dx_age\", train_ds)\n",
    "Relative_Age_1_encoded = encode_integer_categorical_feature(Relative_Age_1, \"rel_age_1\", train_ds)\n",
    "Relative_Age_2_encoded = encode_integer_categorical_feature(Relative_Age_2, \"rel_age_2\", train_ds)\n",
    "Relative_Age_3_encoded = encode_integer_categorical_feature(Relative_Age_3, \"rel_age_3\", train_ds)\n",
    "\n",
    "all_features = layers.concatenate(\n",
    "    [\n",
    "      Relative_Cancer_encoded, \n",
    "      Relative_Relation_encoded,\n",
    "        Cancer_Dx_encoded, \n",
    "        Cancer_Dx_Type_encoded, \n",
    "        Ethnicity_1_encoded, \n",
    "        Ethnicity_2_encoded, \n",
    "        Known_BRCA_encoded, \n",
    "        Known_Cancer_encoded,\n",
    "        Other_Cancer_encoded,\n",
    "        Cancer_dx_Age_encoded,\n",
    "        Relative_Age_1_encoded,\n",
    "        Relative_Age_2_encoded,\n",
    "        Relative_Age_3_encoded\n",
    "    ]\n",
    ")\n",
    "\n",
    "# Multiple layers with dropout (for higher accuracy)\n",
    "x = layers.Dense(187, activation=\"tanh\", name = \"Dense_1\")(all_features)\n",
    "x = layers.Dropout(0.2)(x)\n",
    "x = layers.Dense(64, activation=\"relu\", name = \"Dense_2\")(x)\n",
    "x = layers.Dropout(0.2)(x)\n",
    "x = layers.Dense(32, activation=\"relu\", name = \"Dense_3\")(x)\n",
    "output = layers.Dense(1, activation=\"sigmoid\",name = \"Outputlayer\")(x)\n",
    "\n",
    "model = keras.Model(all_inputs, output)\n",
    "\n",
    "#Use Adam optimizer with custom learning rate\n",
    "\n",
    "opt = keras.optimizers.Adam(learning_rate=0.001)\n",
    "\n",
    "model.compile(opt, \"binary_crossentropy\", metrics=[\"accuracy\"])\n",
    "\n",
    "model.summary()"
   ]
  },
  {
   "cell_type": "code",
   "execution_count": null,
   "id": "fatty-spiritual",
   "metadata": {},
   "outputs": [],
   "source": [
    "keras.utils.plot_model(model, show_shapes=True, rankdir=\"LR\")"
   ]
  },
  {
   "cell_type": "code",
   "execution_count": null,
   "id": "gross-signal",
   "metadata": {},
   "outputs": [],
   "source": [
    "!mkdir checkpoints"
   ]
  },
  {
   "cell_type": "code",
   "execution_count": null,
   "id": "upset-sacrifice",
   "metadata": {},
   "outputs": [],
   "source": [
    "checkpoint = ModelCheckpoint('./checkpoints/best_weights.tf', monitor='val_accuracy', verbose=1, save_best_only=True, mode='auto')"
   ]
  },
  {
   "cell_type": "code",
   "execution_count": null,
   "id": "hindu-sandwich",
   "metadata": {},
   "outputs": [],
   "source": [
    "history = model.fit(train_ds, epochs=70, validation_data=val_ds, callbacks=[checkpoint])"
   ]
  },
  {
   "cell_type": "code",
   "execution_count": null,
   "id": "respective-crawford",
   "metadata": {},
   "outputs": [],
   "source": []
  },
  {
   "cell_type": "code",
   "execution_count": null,
   "id": "sharp-veteran",
   "metadata": {},
   "outputs": [],
   "source": []
  },
  {
   "cell_type": "markdown",
   "id": "failing-vision",
   "metadata": {},
   "source": [
    "# Other"
   ]
  },
  {
   "cell_type": "code",
   "execution_count": null,
   "id": "cosmetic-rugby",
   "metadata": {},
   "outputs": [],
   "source": [
    "from selenium import webdriver\n",
    "from webdriver_manager.chrome import ChromeDriverManager"
   ]
  },
  {
   "cell_type": "code",
   "execution_count": null,
   "id": "linear-rachel",
   "metadata": {},
   "outputs": [],
   "source": [
    "driver = webdriver.Chrome(executable_path=ChromeDriverManager().install())"
   ]
  },
  {
   "cell_type": "code",
   "execution_count": null,
   "id": "rational-cornwall",
   "metadata": {},
   "outputs": [],
   "source": [
    "driver.get('https://en.wikipedia.org/wiki/List_of_contemporary_ethnic_groups')"
   ]
  },
  {
   "cell_type": "code",
   "execution_count": null,
   "id": "imposed-surge",
   "metadata": {},
   "outputs": [],
   "source": [
    "lstOfEthnicities = []\n",
    "for i in range(1,497):\n",
    "    #print(driver.find_element_by_xpath('/html/body/div[3]/div[3]/div[5]/div[1]/table[2]/tbody/tr['+str(i)+']/td[1]').text)\n",
    "    lstOfEthnicities.append(driver.find_element_by_xpath('/html/body/div[3]/div[3]/div[5]/div[1]/table[2]/tbody/tr['+str(i)+']/td[1]').text)\n",
    "lstOfEthnicities.append('caucasian')"
   ]
  },
  {
   "cell_type": "code",
   "execution_count": null,
   "id": "selected-legislation",
   "metadata": {},
   "outputs": [],
   "source": [
    "driver.quit()"
   ]
  },
  {
   "cell_type": "code",
   "execution_count": null,
   "id": "beginning-lancaster",
   "metadata": {},
   "outputs": [],
   "source": [
    "'norwegian' in lstOfEthnicities"
   ]
  },
  {
   "cell_type": "code",
   "execution_count": null,
   "id": "protecting-scratch",
   "metadata": {},
   "outputs": [],
   "source": []
  }
 ],
 "metadata": {
  "kernelspec": {
   "display_name": "Python 3",
   "language": "python",
   "name": "python3"
  },
  "language_info": {
   "codemirror_mode": {
    "name": "ipython",
    "version": 3
   },
   "file_extension": ".py",
   "mimetype": "text/x-python",
   "name": "python",
   "nbconvert_exporter": "python",
   "pygments_lexer": "ipython3",
   "version": "3.8.6"
  }
 },
 "nbformat": 4,
 "nbformat_minor": 5
}
